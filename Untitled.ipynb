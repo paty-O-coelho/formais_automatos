{
 "cells": [
  {
   "cell_type": "code",
   "execution_count": 11,
   "metadata": {},
   "outputs": [],
   "source": []
  },
  {
   "cell_type": "code",
   "execution_count": 21,
   "metadata": {},
   "outputs": [],
   "source": [
    "import pandas as pd\n",
    "import numpy as np\n",
    "\n",
    "df = pd.DataFrame()\n",
    "df = {\n",
    "'País': ['a','Bélgica', 'Índia', 'Brasil','Índia'],\n",
    "'Capital': ['a','Bruxelas', 'Nova Delhi', 'Brasília', 'Nova Delhi'],\n",
    "'Popu': [1,6, 2, 5, 90]\n",
    "}\n",
    "data = pd.DataFrame(df)\n",
    "avg = np.mean(data['Popu'])\n",
    "count = 0\n",
    "\n",
    "for i in data['Popu']:\n",
    "    if i > avg:\n",
    "        print(i)\n",
    "        count = count +1\n",
    "print('media:',avg,'\\n','quantos:',count)"
   ]
  },
  {
   "cell_type": "code",
   "execution_count": null,
   "metadata": {},
   "outputs": [],
   "source": []
  },
  {
   "cell_type": "code",
   "execution_count": null,
   "metadata": {},
   "outputs": [],
   "source": [
    "def qtd_elements_above_avg(value):\n",
    "    count = 0\n",
    "    if not (value is None or value==\"None\"):\n",
    "        label_test_selected = value.split(\" - \")\n",
    "        service = ResultsService()    \n",
    "        test_selected = service.request_dashboard_elements({\"project\": \"FY19_Rubicon\", \"test_id\": label_test_selected[2]})\n",
    "        elements = pd.json_normalize(test_selected,'elements') #take only what is inside the element\n",
    "        avg = np.mean(elements['elementScoreNorm'])\n",
    "        for i in elements['elementScoreNorm']:\n",
    "            if i> avg:\n",
    "                count = count+1\n",
    "    return count "
   ]
  },
  {
   "cell_type": "code",
   "execution_count": null,
   "metadata": {},
   "outputs": [],
   "source": [
    "\n"
   ]
  },
  {
   "cell_type": "code",
   "execution_count": null,
   "metadata": {},
   "outputs": [],
   "source": []
  },
  {
   "cell_type": "code",
   "execution_count": null,
   "metadata": {},
   "outputs": [],
   "source": []
  },
  {
   "cell_type": "code",
   "execution_count": null,
   "metadata": {},
   "outputs": [],
   "source": []
  },
  {
   "cell_type": "code",
   "execution_count": null,
   "metadata": {},
   "outputs": [],
   "source": []
  },
  {
   "cell_type": "code",
   "execution_count": null,
   "metadata": {},
   "outputs": [],
   "source": []
  },
  {
   "cell_type": "code",
   "execution_count": null,
   "metadata": {},
   "outputs": [],
   "source": []
  },
  {
   "cell_type": "code",
   "execution_count": null,
   "metadata": {},
   "outputs": [],
   "source": []
  }
 ],
 "metadata": {
  "kernelspec": {
   "display_name": "Python 3",
   "language": "python",
   "name": "python3"
  },
  "language_info": {
   "codemirror_mode": {
    "name": "ipython",
    "version": 3
   },
   "file_extension": ".py",
   "mimetype": "text/x-python",
   "name": "python",
   "nbconvert_exporter": "python",
   "pygments_lexer": "ipython3",
   "version": "3.8.5"
  }
 },
 "nbformat": 4,
 "nbformat_minor": 4
}
